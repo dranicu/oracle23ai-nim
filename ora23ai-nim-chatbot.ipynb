{
 "cells": [
  {
   "cell_type": "markdown",
   "id": "018d5e18",
   "metadata": {},
   "source": [
    "PREREQUISTES\n",
    "\n",
    "VAULT SECRET OCID and ADB OCID need to be completed in ora23ai_connection before execution of the notebook."
   ]
  },
  {
   "cell_type": "code",
   "execution_count": null,
   "id": "2b1e7c59-023c-4426-9d9c-b613e6c4c377",
   "metadata": {},
   "outputs": [],
   "source": [
    "!python3 -m pip install oracledb langchain_community oci gradio pypdf langchain_cohere==0.1.9 langchain-huggingface langchain_experimental openai langchain_openai langchain_nvidia_ai_endpoints"
   ]
  },
  {
   "cell_type": "code",
   "execution_count": null,
   "id": "b090c96a-53be-46bf-a458-8b1aa2e2d8f6",
   "metadata": {
    "editable": true,
    "slideshow": {
     "slide_type": ""
    },
    "tags": []
   },
   "outputs": [],
   "source": [
    "from ora23ai_gradio_chatbot import setup_chatbot, clean_up_vector_db\n",
    "from langchain_cohere import CohereEmbeddings\n",
    "from langchain_cohere.chat_models import ChatCohere\n",
    "from langchain_nvidia_ai_endpoints import NVIDIAEmbeddings\n",
    "from langchain_openai import ChatOpenAI\n",
    "from openai import OpenAI\n",
    "\n",
    "embedding_models = {\n",
    "    \"nv-embedqa-e5-v5\": {\n",
    "        \"model\": \"nvidia/nv-embedqa-e5-v5\",\n",
    "        \"embedding_function\": lambda api_key: NVIDIAEmbeddings(\n",
    "            base_url = \"http://nemo-embedding-ms:8080/v1\",\n",
    "            model=\"nvidia/nv-embedqa-e5-v5\"\n",
    "        ),\n",
    "        \"size\": 1024\n",
    "    },\n",
    "    \"cohere\": {\n",
    "        \"model\": \"embed-english-light-v3.0\",\n",
    "        \"embedding_size\": 384,\n",
    "        \"embedding_function\": lambda api_key: CohereEmbeddings(\n",
    "            cohere_api_key=api_key,\n",
    "            model=\"embed-english-light-v3.0\"\n",
    "        ),\n",
    "        \"size\": 384\n",
    "    }\n",
    "}\n",
    "\n",
    "llm_models = {\n",
    "    \"gemma-2b\": {\n",
    "        \"model\": \"google/gemma-2b\",\n",
    "        \"llm_function\": lambda api_key, kwargs={}: ChatOpenAI(\n",
    "            base_url=\"https://integrate.api.nvidia.com/v1\",\n",
    "            model=\"google/gemma-2b\",\n",
    "            api_key=api_key,\n",
    "            **kwargs\n",
    "        )\n",
    "    },\n",
    "    \"cohere-chat\": {\n",
    "        \"model\": \"command-r-plus\",\n",
    "        \"llm_function\": lambda api_key, kwargs={}: ChatCohere(\n",
    "            cohere_api_key=api_key,\n",
    "            **kwargs\n",
    "        )\n",
    "    }\n",
    "}\n",
    "\n",
    "try:\n",
    "    model = \"\"\n",
    "    client = OpenAI(\n",
    "      base_url = \"http://llm/v1\",\n",
    "      api_key = \"dummy\"\n",
    "    )\n",
    "    available_models = client.models.list()\n",
    "    if len(available_models.data):\n",
    "        model = available_models.data[0].id\n",
    "        print(f\"Discovered model is: {model}\")\n",
    "    else:\n",
    "        print(\"No model discovered\")\n",
    "except Exception as e:\n",
    "    print(e)\n",
    "\n",
    "if model:\n",
    "    llm_models[f'{model}']= {\n",
    "        \"model\": model,\n",
    "        \"llm_function\": lambda api_key, kwargs={}: ChatOpenAI(\n",
    "            base_url=\"http://llm/v1\",\n",
    "            model=model,\n",
    "            api_key=\"dummy\",\n",
    "            **kwargs\n",
    "        )\n",
    "    }\n",
    "\n",
    "\n",
    "clean_up_vector_db()\n",
    "\n",
    "demo = setup_chatbot(llm_models, embedding_models)\n",
    "demo.queue().launch(share=True)"
   ]
  }
 ],
 "metadata": {
  "kernelspec": {
   "display_name": "Python 3 (ipykernel)",
   "language": "python",
   "name": "python3"
  },
  "language_info": {
   "codemirror_mode": {
    "name": "ipython",
    "version": 3
   },
   "file_extension": ".py",
   "mimetype": "text/x-python",
   "name": "python",
   "nbconvert_exporter": "python",
   "pygments_lexer": "ipython3",
   "version": "3.11.9"
  }
 },
 "nbformat": 4,
 "nbformat_minor": 5
}
